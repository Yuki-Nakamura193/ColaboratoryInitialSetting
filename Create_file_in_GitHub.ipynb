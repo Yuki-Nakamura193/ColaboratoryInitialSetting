{
  "nbformat": 4,
  "nbformat_minor": 0,
  "metadata": {
    "colab": {
      "name": "Create file in GitHub.ipynb",
      "provenance": [],
      "collapsed_sections": [],
      "include_colab_link": true
    },
    "kernelspec": {
      "name": "python3",
      "display_name": "Python 3"
    },
    "accelerator": "GPU"
  },
  "cells": [
    {
      "cell_type": "markdown",
      "metadata": {
        "id": "view-in-github",
        "colab_type": "text"
      },
      "source": [
        "<a href=\"https://colab.research.google.com/github/Yuki-Nakamura193/ColaboratoryInitialSetting/blob/master/Create_file_in_GitHub.ipynb\" target=\"_parent\"><img src=\"https://colab.research.google.com/assets/colab-badge.svg\" alt=\"Open In Colab\"/></a>"
      ]
    },
    {
      "cell_type": "markdown",
      "metadata": {
        "id": "b6Qb7D5_marg",
        "colab_type": "text"
      },
      "source": [
        "#Setting\n",
        "Install the library to be used."
      ]
    },
    {
      "cell_type": "code",
      "metadata": {
        "id": "f_2M1xuTW0lI",
        "colab_type": "code",
        "colab": {
          "base_uri": "https://localhost:8080/",
          "height": 52
        },
        "outputId": "7fce0581-d2c5-4934-a63e-3e91e471734b"
      },
      "source": [
        "!pip install -q PyGitHub\n",
        "\n",
        "from github import Github, GithubException\n",
        "import nbformat"
      ],
      "execution_count": 2,
      "outputs": [
        {
          "output_type": "stream",
          "text": [
            "\u001b[?25l\r\u001b[K     |███                             | 10kB 18.4MB/s eta 0:00:01\r\u001b[K     |██████                          | 20kB 1.8MB/s eta 0:00:01\r\u001b[K     |█████████                       | 30kB 2.6MB/s eta 0:00:01\r\u001b[K     |████████████                    | 40kB 1.7MB/s eta 0:00:01\r\u001b[K     |███████████████                 | 51kB 2.1MB/s eta 0:00:01\r\u001b[K     |██████████████████              | 61kB 2.6MB/s eta 0:00:01\r\u001b[K     |█████████████████████▏          | 71kB 3.0MB/s eta 0:00:01\r\u001b[K     |████████████████████████▏       | 81kB 3.3MB/s eta 0:00:01\r\u001b[K     |███████████████████████████▏    | 92kB 3.7MB/s eta 0:00:01\r\u001b[K     |██████████████████████████████▏ | 102kB 2.9MB/s eta 0:00:01\r\u001b[K     |████████████████████████████████| 112kB 2.9MB/s \n",
            "\u001b[?25h  Building wheel for PyGitHub (setup.py) ... \u001b[?25l\u001b[?25hdone\n"
          ],
          "name": "stdout"
        }
      ]
    },
    {
      "cell_type": "markdown",
      "metadata": {
        "id": "sdhMpK9lurgG",
        "colab_type": "text"
      },
      "source": [
        "Set the repository and file name.\\\n",
        "Replace the access token with the one you acquired."
      ]
    },
    {
      "cell_type": "code",
      "metadata": {
        "id": "RLubOPZXXVnM",
        "colab_type": "code",
        "colab": {}
      },
      "source": [
        "access_token = 'xxxxxxxxxxxxxxxxxxxxxxxxxxxxxxxxxxxxxxxx'                        # Specify GitHub token for accessing my Git\n",
        "\n",
        "repository_name = 'ColaboratoryInitialSetting'                                   # Dicide \"Repositry name\" \n",
        "ipynb_file_name = 'CreateNewNotebook.ipynb'                                      # Dicide \"File name\""
      ],
      "execution_count": 0,
      "outputs": []
    },
    {
      "cell_type": "markdown",
      "metadata": {
        "id": "hoRtHkGxoJit",
        "colab_type": "text"
      },
      "source": [
        "#Create repositry\n",
        "Create the specified repository if it does not exist"
      ]
    },
    {
      "cell_type": "code",
      "metadata": {
        "id": "oCz31fvxXopS",
        "colab_type": "code",
        "colab": {
          "base_uri": "https://localhost:8080/",
          "height": 34
        },
        "outputId": "c5b2ae70-5a83-4cd7-959b-e2f616f87649"
      },
      "source": [
        "github = Github(access_token)\n",
        "user = github.get_user()\n",
        "\n",
        "try:\n",
        "  user.create_repo(repository_name)\n",
        "except GithubException:\n",
        "  print(f'{repository_name} already exists on this account.')"
      ],
      "execution_count": 4,
      "outputs": [
        {
          "output_type": "stream",
          "text": [
            "ColaboratoryInitialSetting already exists on this account.\n"
          ],
          "name": "stdout"
        }
      ]
    },
    {
      "cell_type": "markdown",
      "metadata": {
        "id": "mBAXP7r8qg3u",
        "colab_type": "text"
      },
      "source": [
        "#Create ipynb file\n",
        "Here, define the Notebook to be created. Markdown cells can be defined as well as normal program cells.\n",
        "Rewrite this if there are settings that you use usually."
      ]
    },
    {
      "cell_type": "code",
      "metadata": {
        "id": "M-KIZ5t0X--I",
        "colab_type": "code",
        "colab": {}
      },
      "source": [
        "nb = nbformat.v4.new_notebook()\n",
        "\n",
        "nb[\"cells\"] = [\n",
        "    nbformat.v4.new_markdown_cell('# setting'),                                  # Write First line as Text\n",
        "    nbformat.v4.new_code_cell(                                                   # Write Second line as Code\n",
        "        \"\"\"\n",
        "        %matplotlib inline\n",
        "        import matplotlib.pyplot as plt\n",
        "        import numpy as np\n",
        "        import pandas as pd\n",
        "        \"\"\")\n",
        "]"
      ],
      "execution_count": 0,
      "outputs": []
    },
    {
      "cell_type": "markdown",
      "metadata": {
        "id": "dkYSkUBAsURR",
        "colab_type": "text"
      },
      "source": [
        "#Upload ipynb file"
      ]
    },
    {
      "cell_type": "code",
      "metadata": {
        "id": "FupdBbIMYOP4",
        "colab_type": "code",
        "colab": {
          "base_uri": "https://localhost:8080/",
          "height": 242
        },
        "outputId": "75a072ed-27fb-4d25-ed36-839500907362"
      },
      "source": [
        "repo = user.get_repo(repository_name)\n",
        "\n",
        "try:\n",
        "  repo.get_contents(ipynb_file_name)\n",
        "  raise(Exception(f'{ipynb_file_name} already exists in {repository_name}.'))\n",
        "except GithubException as e:\n",
        "  repo.create_file(ipynb_file_name, f'create {ipynb_file_name}', nbformat.writes(nb))"
      ],
      "execution_count": 9,
      "outputs": [
        {
          "output_type": "error",
          "ename": "Exception",
          "evalue": "ignored",
          "traceback": [
            "\u001b[0;31m---------------------------------------------------------------------------\u001b[0m",
            "\u001b[0;31mException\u001b[0m                                 Traceback (most recent call last)",
            "\u001b[0;32m<ipython-input-9-ff02b78d026e>\u001b[0m in \u001b[0;36m<module>\u001b[0;34m()\u001b[0m\n\u001b[1;32m      3\u001b[0m \u001b[0;32mtry\u001b[0m\u001b[0;34m:\u001b[0m\u001b[0;34m\u001b[0m\u001b[0;34m\u001b[0m\u001b[0m\n\u001b[1;32m      4\u001b[0m   \u001b[0mrepo\u001b[0m\u001b[0;34m.\u001b[0m\u001b[0mget_contents\u001b[0m\u001b[0;34m(\u001b[0m\u001b[0mipynb_file_name\u001b[0m\u001b[0;34m)\u001b[0m\u001b[0;34m\u001b[0m\u001b[0;34m\u001b[0m\u001b[0m\n\u001b[0;32m----> 5\u001b[0;31m   \u001b[0;32mraise\u001b[0m\u001b[0;34m(\u001b[0m\u001b[0mException\u001b[0m\u001b[0;34m(\u001b[0m\u001b[0;34mf'{ipynb_file_name} already exists in {repository_name}.'\u001b[0m\u001b[0;34m)\u001b[0m\u001b[0;34m)\u001b[0m\u001b[0;34m\u001b[0m\u001b[0;34m\u001b[0m\u001b[0m\n\u001b[0m\u001b[1;32m      6\u001b[0m \u001b[0;32mexcept\u001b[0m \u001b[0mGithubException\u001b[0m \u001b[0;32mas\u001b[0m \u001b[0me\u001b[0m\u001b[0;34m:\u001b[0m\u001b[0;34m\u001b[0m\u001b[0;34m\u001b[0m\u001b[0m\n\u001b[1;32m      7\u001b[0m   \u001b[0mrepo\u001b[0m\u001b[0;34m.\u001b[0m\u001b[0mcreate_file\u001b[0m\u001b[0;34m(\u001b[0m\u001b[0mipynb_file_name\u001b[0m\u001b[0;34m,\u001b[0m \u001b[0;34mf'create {ipynb_file_name}'\u001b[0m\u001b[0;34m,\u001b[0m \u001b[0mnbformat\u001b[0m\u001b[0;34m.\u001b[0m\u001b[0mwrites\u001b[0m\u001b[0;34m(\u001b[0m\u001b[0mnb\u001b[0m\u001b[0;34m)\u001b[0m\u001b[0;34m)\u001b[0m\u001b[0;34m\u001b[0m\u001b[0;34m\u001b[0m\u001b[0m\n",
            "\u001b[0;31mException\u001b[0m: CreateNewNotebook.ipynb already exists in ColaboratoryInitialSetting."
          ]
        }
      ]
    },
    {
      "cell_type": "markdown",
      "metadata": {
        "id": "6q0qs6e2wBNi",
        "colab_type": "text"
      },
      "source": [
        "#Display ipynb file"
      ]
    },
    {
      "cell_type": "code",
      "metadata": {
        "id": "z-zYi-m1YbbY",
        "colab_type": "code",
        "colab": {
          "base_uri": "https://localhost:8080/",
          "height": 52
        },
        "outputId": "0dffe7a0-5eec-44dc-cc60-afdc03c83f4c"
      },
      "source": [
        "print(f'github: https://github.com/{user.login}/{repository_name}/blob/master/{ipynb_file_name}')\n",
        "print(f'colab:  https://colab.research.google.com/github/{user.login}/{repository_name}/blob/master/{ipynb_file_name}')"
      ],
      "execution_count": 10,
      "outputs": [
        {
          "output_type": "stream",
          "text": [
            "github: https://github.com/Yuki-Nakamura193/ColaboratoryInitialSetting/blob/master/CreateNewNotebook.ipynb\n",
            "colab:  https://colab.research.google.com/github/Yuki-Nakamura193/ColaboratoryInitialSetting/blob/master/CreateNewNotebook.ipynb\n"
          ],
          "name": "stdout"
        }
      ]
    },
    {
      "cell_type": "markdown",
      "metadata": {
        "id": "9V4JkiP3wSgN",
        "colab_type": "text"
      },
      "source": [
        "#Display GitHub file window"
      ]
    },
    {
      "cell_type": "code",
      "metadata": {
        "id": "7QDUpVZ6Y3AH",
        "colab_type": "code",
        "colab": {
          "base_uri": "https://localhost:8080/",
          "height": 34
        },
        "outputId": "b9071983-b0dc-4cf0-ad1f-12091fedc9fd"
      },
      "source": [
        "print(f'colab:  https://colab.research.google.com/github/{user.login}')"
      ],
      "execution_count": 9,
      "outputs": [
        {
          "output_type": "stream",
          "text": [
            "colab:  https://colab.research.google.com/github/Yuki-Nakamura193\n"
          ],
          "name": "stdout"
        }
      ]
    },
    {
      "cell_type": "code",
      "metadata": {
        "id": "VGbcHmm3lIrJ",
        "colab_type": "code",
        "colab": {}
      },
      "source": [
        ""
      ],
      "execution_count": 0,
      "outputs": []
    }
  ]
}